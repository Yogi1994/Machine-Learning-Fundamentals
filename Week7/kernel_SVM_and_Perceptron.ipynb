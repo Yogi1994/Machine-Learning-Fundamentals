{
 "cells": [
  {
   "cell_type": "markdown",
   "metadata": {},
   "source": [
    "# Experiments with kernel machines"
   ]
  },
  {
   "cell_type": "markdown",
   "metadata": {},
   "source": [
    "In this notebook we will use simple two-dimensional data sets to illustrate the behavior of the support vector machine and the Perceptron, when used with quadratic and RBF kernels."
   ]
  },
  {
   "cell_type": "markdown",
   "metadata": {},
   "source": [
    "## 1. Basic training procedure"
   ]
  },
  {
   "cell_type": "code",
   "execution_count": 1,
   "metadata": {
    "collapsed": true
   },
   "outputs": [],
   "source": [
    "%matplotlib inline\n",
    "import numpy as np\n",
    "import matplotlib\n",
    "import matplotlib.pyplot as plt\n",
    "from sklearn.svm import SVC\n",
    "matplotlib.rc('xtick', labelsize=14) \n",
    "matplotlib.rc('ytick', labelsize=14)"
   ]
  },
  {
   "cell_type": "markdown",
   "metadata": {},
   "source": [
    "The directory containing this notebook should also contain two-dimensional data files, `data1.txt` through `data5.txt`. These files contain one data point per line, along with a label (either -1 or 1), like:\n",
    "* `3 8 -1` (meaning that point `x=(3,8)` has label `y=-1`)\n",
    "\n",
    "The next procedure, **learn_and_display_SVM**, loads one of these data sets, invokes `sklearn.SVC` to learn a classifier, and then displays the data as well as the boundary. It is invoked as follows:\n",
    "* `learn_and_display_SVM(datafile, kernel_type, C_value, s_value)`\n",
    "\n",
    "where\n",
    "* `datafile` is one of `'data1.txt'` through `'data5.txt'` (or another file in the same format)\n",
    "* `kernel_type` is either `'quadratic'` or `'rbf'`\n",
    "* `C_value` is the setting of the soft-margin parameter `C` (default: 1.0)\n",
    "* `s_value` (for the RBF kernel) is the scaling parameter `s` (default: 1.0)"
   ]
  },
  {
   "cell_type": "code",
   "execution_count": 2,
   "metadata": {
    "collapsed": true
   },
   "outputs": [],
   "source": [
    "def learn_and_display_SVM(datafile, kernel_type='rbf', C_value=1.0, s_value=1.0):\n",
    "    data = np.loadtxt(datafile)\n",
    "    n,d = data.shape\n",
    "    # Create training set x and labels y\n",
    "    x = data[:,0:2]\n",
    "    y = data[:,2]\n",
    "    # Now train a support vector machine and identify the support vectors\n",
    "    if kernel_type == 'rbf':\n",
    "        clf = SVC(kernel='rbf', C=C_value, gamma=1.0/(s_value*s_value))\n",
    "    if kernel_type == 'quadratic':\n",
    "        clf = SVC(kernel='poly', degree=2, C=C_value, coef0=1.0)\n",
    "    clf.fit(x,y)\n",
    "    sv = np.zeros(n,dtype=bool)\n",
    "    sv[clf.support_] = True\n",
    "    notsv = np.logical_not(sv)\n",
    "    # Determine the x1- and x2- limits of the plot\n",
    "    x1min = min(x[:,0]) - 1\n",
    "    x1max = max(x[:,0]) + 1\n",
    "    x2min = min(x[:,1]) - 1\n",
    "    x2max = max(x[:,1]) + 1\n",
    "    plt.xlim(x1min,x1max)\n",
    "    plt.ylim(x2min,x2max)\n",
    "    # Plot the data points, enlarging those that are support vectors\n",
    "    plt.plot(x[(y==1)*notsv,0], x[(y==1)*notsv,1], 'ro')\n",
    "    plt.plot(x[(y==1)*sv,0], x[(y==1)*sv,1], 'ro', markersize=10)\n",
    "    plt.plot(x[(y==-1)*notsv,0], x[(y==-1)*notsv,1], 'k^')\n",
    "    plt.plot(x[(y==-1)*sv,0], x[(y==-1)*sv,1], 'k^', markersize=10)\n",
    "    # Construct a grid of points and evaluate classifier at each grid points\n",
    "    grid_spacing = 0.05\n",
    "    xx1, xx2 = np.meshgrid(np.arange(x1min, x1max, grid_spacing), np.arange(x2min, x2max, grid_spacing))\n",
    "    grid = np.c_[xx1.ravel(), xx2.ravel()]\n",
    "    Z = clf.decision_function(grid)\n",
    "    # Quantize the values to -1, -0.5, 0, 0.5, 1 for display purposes\n",
    "    for i in range(len(Z)):\n",
    "        Z[i] = min(Z[i],1.0)\n",
    "        Z[i] = max(Z[i],-1.0)\n",
    "        if (Z[i] > 0.0) and (Z[i] < 1.0):\n",
    "            Z[i] = 0.5\n",
    "        if (Z[i] < 0.0) and (Z[i] > -1.0):\n",
    "            Z[i] = -0.5\n",
    "    # Show boundary and margin using a color plot\n",
    "    Z = Z.reshape(xx1.shape)\n",
    "    plt.pcolormesh(xx1, xx2, Z, cmap=plt.cm.PRGn, vmin=-2, vmax=2)\n",
    "    plt.show()"
   ]
  },
  {
   "cell_type": "markdown",
   "metadata": {},
   "source": [
    "## 2. Experiments with the quadratic kernel"
   ]
  },
  {
   "cell_type": "markdown",
   "metadata": {},
   "source": [
    "Let's try out SVM on some examples, starting with the quadratic kernel."
   ]
  },
  {
   "cell_type": "code",
   "execution_count": 3,
   "metadata": {},
   "outputs": [
    {
     "data": {
      "image/png": "[encoded data removed]",
      "text/plain": [
       "<matplotlib.figure.Figure at 0x7f1d902bbda0>"
      ]
     },
     "metadata": {},
     "output_type": "display_data"
    }
   ],
   "source": [
    "learn_and_display_SVM('data1.txt', 'quadratic', 1.0)"
   ]
  },
  {
   "cell_type": "markdown",
   "metadata": {},
   "source": [
    "Also try `data2.txt` through `data5.txt`. Also try changing the value of `C` (the third parameter) to see how that affects the boundary and margin."
   ]
  },
  {
   "cell_type": "markdown",
   "metadata": {},
   "source": [
    "## 3. Experiments with the RBF kernel"
   ]
  },
  {
   "cell_type": "markdown",
   "metadata": {},
   "source": [
    "Now experiment with the RBF kernel, on the same five data sets. This time there are two parameters to play with: `C` and `sigma`."
   ]
  },
  {
   "cell_type": "code",
   "execution_count": 4,
   "metadata": {},
   "outputs": [
    {
     "data": {
      "image/png": "[encoded data removed]",
      "text/plain": [
       "<matplotlib.figure.Figure at 0x7f1d767236d8>"
      ]
     },
     "metadata": {},
     "output_type": "display_data"
    }
   ],
   "source": [
    "learn_and_display_SVM('data1.txt', 'rbf', 10.0, 10.0)"
   ]
  },
  {
   "cell_type": "markdown",
   "metadata": {},
   "source": [
    "## 4. The kernel Perceptron"
   ]
  },
  {
   "cell_type": "markdown",
   "metadata": {},
   "source": [
    "<font color=\"magenta\">**For you to do:**</font> Implement the kernel Perceptron algorithm as specified in lecture. Your algorithm should allow both the quadratic and RBF kernel, and should follow roughly the same signature as the SVM routine above:\n",
    "* `learn_and_display_Perceptron(datafile, kernel_type, s_value)`\n",
    "\n",
    "Recall that the Perceptron algorithm does not always converge; you will need to explicitly check for this."
   ]
  },
  {
   "cell_type": "code",
   "execution_count": 31,
   "metadata": {
    "collapsed": true
   },
   "outputs": [],
   "source": [
    "### \n",
    "### Any auxiliary functions that you need\n",
    "###\n",
    "def learn_and_display_Perceptron(datafile, kernel_type='rbf', s_value=1.0):\n",
    "    ###\n",
    "    ### Your code\n",
    "    data = np.loadtxt(datafile)\n",
    "    n,d = data.shape\n",
    "    x = data[:, :2]\n",
    "    y = data[:,2]\n",
    "    w = np.zeros(d-1)\n",
    "    b = 0\n",
    "    for i in range(n):\n",
    "        wx_b = np.dot(x[i],w) \n",
    "        wx_b+= b\n",
    "        if wx_b*y[i] <= 0:\n",
    "            w = w + s_value*y[i]*x[i]\n",
    "            b = b + y[i]\n",
    "            print()\n",
    "    \n",
    "    print(w)\n",
    "    print(b)\n",
    "    return w,b\n",
    "    ###\n",
    "def predict(X, w, b):\n",
    "    X = np.atleast_2d(X)\n",
    "    return np.sign(np.dot(X, w) + b)"
   ]
  },
  {
   "cell_type": "code",
   "execution_count": 40,
   "metadata": {},
   "outputs": [
    {
     "name": "stdout",
     "output_type": "stream",
     "text": [
      "[ 19. -13.]\n",
      "-1.0\n",
      "28 out of 60 predictions correct\n"
     ]
    }
   ],
   "source": [
    "w, b = learn_and_display_Perceptron('data3.txt', 'rbf', 1.0)\n",
    "y_pred = predict(x, w, b)\n",
    "correct = np.sum(y_pred == y)\n",
    "print (\"%d out of %d predictions correct\" % (correct, len(y_pred)))"
   ]
  },
  {
   "cell_type": "markdown",
   "metadata": {},
   "source": [
    "<font color=\"magenta\">Experiment with your routine, on the same five data sets.</font>"
   ]
  },
  {
   "cell_type": "code",
   "execution_count": 68,
   "metadata": {
    "collapsed": true
   },
   "outputs": [],
   "source": [
    "class Perceptron(object):\n",
    "\n",
    "    def __init__(self, T=1):\n",
    "        self.T = T\n",
    "\n",
    "    def fit(self, X, y):\n",
    "        n_samples, n_features = X.shape\n",
    "        self.w = np.zeros(n_features, dtype=np.float64)\n",
    "        self.b = 0.0\n",
    "\n",
    "        for t in range(self.T):\n",
    "            for i in range(n_samples):\n",
    "                if self.predict(X[i])[0] != y[i]:\n",
    "                    self.w += y[i] * X[i]\n",
    "                    self.b += y[i]\n",
    "\n",
    "    def project(self, X):\n",
    "        return (np.dot(X, self.w) + self.b)*(np.dot(X, self.w) + self.b)\n",
    "\n",
    "    def predict(self, X):\n",
    "        X = np.atleast_2d(X)\n",
    "        return np.sign(self.project(X))"
   ]
  },
  {
   "cell_type": "code",
   "execution_count": 81,
   "metadata": {},
   "outputs": [
    {
     "name": "stdout",
     "output_type": "stream",
     "text": [
      "40 out of 60 predictions correct\n"
     ]
    }
   ],
   "source": [
    "clf = Perceptron(T=150)\n",
    "data = np.loadtxt('data5.txt')\n",
    "x = data[:, :2]\n",
    "y = data[:,2]\n",
    "clf.fit(x, y)\n",
    "\n",
    "y_predict = clf.predict(x)\n",
    "correct = np.sum(y_predict == y)\n",
    "print (\"%d out of %d predictions correct\" % (correct, len(y_predict)))"
   ]
  },
  {
   "cell_type": "markdown",
   "metadata": {},
   "source": [
    "### "
   ]
  },
  {
   "cell_type": "code",
   "execution_count": 119,
   "metadata": {},
   "outputs": [],
   "source": [
    "def linear_kernel(x1, x2):\n",
    "    return np.dot(x1, x2)\n",
    "\n",
    "def polynomial_kernel(x, y, p=2):\n",
    "    return (1 + np.dot(x, y)) ** p\n",
    "\n",
    "def gaussian_kernel(x, y, sigma=5.0):\n",
    "    return np.exp(-np.linalg.norm(x-y)**2 / (2 * (sigma ** 2)))\n",
    "\n",
    "class KernelPerceptron(object):\n",
    "\n",
    "    def __init__(self, kernel=linear_kernel, T=1):\n",
    "        self.kernel = kernel\n",
    "        self.T = T\n",
    "\n",
    "    def fit(self, X, y):\n",
    "        n_samples, n_features = X.shape\n",
    "        #np.hstack((X, np.ones((n_samples, 1))))\n",
    "        self.alpha = np.zeros(n_samples, dtype=np.float64)\n",
    "\n",
    "        # Gram matrix\n",
    "        K = np.zeros((n_samples, n_samples))\n",
    "        for i in range(n_samples):\n",
    "            for j in range(n_samples):\n",
    "                K[i,j] = self.kernel(X[i], X[j])\n",
    "\n",
    "        for t in range(self.T):\n",
    "            for i in range(n_samples):\n",
    "                if np.sign(np.sum(K[:,i] * self.alpha * y)) != y[i]:\n",
    "                    self.alpha[i] += 1.0\n",
    "\n",
    "        # Support vectors\n",
    "        sv = self.alpha > 1e-5\n",
    "        ind = np.arange(len(self.alpha))[sv]\n",
    "        self.alpha = self.alpha[sv]\n",
    "        self.sv = X[sv]\n",
    "        self.sv_y = y[sv]\n",
    "        print (\"%d support vectors out of %d points\" % (len(self.alpha),\n",
    "                                                       n_samples))\n",
    "\n",
    "    def project(self, X):\n",
    "        y_predict = np.zeros(len(X))\n",
    "        for i in range(len(X)):\n",
    "            s = 0\n",
    "            for a, sv_y, sv in zip(self.alpha, self.sv_y, self.sv):\n",
    "                s += a * sv_y * self.kernel(X[i], sv)\n",
    "            y_predict[i] = s\n",
    "        return y_predict\n",
    "\n",
    "    def predict(self, X):\n",
    "        X = np.atleast_2d(X)\n",
    "        n_samples, n_features = X.shape\n",
    "        #np.hstack((X, np.ones((n_samples, 1))))\n",
    "        return np.sign(self.project(X))"
   ]
  },
  {
   "cell_type": "code",
   "execution_count": 123,
   "metadata": {},
   "outputs": [
    {
     "name": "stdout",
     "output_type": "stream",
     "text": [
      "22 support vectors out of 90 points\n",
      "90 out of 90 predictions correct\n"
     ]
    }
   ],
   "source": [
    "clf = KernelPerceptron(gaussian_kernel, T=1000)\n",
    "data = np.loadtxt('data3.txt')\n",
    "x = data[:, :2]\n",
    "y = data[:,2]\n",
    "clf.fit(x, y)\n",
    "\n",
    "y_predict = clf.predict(x)\n",
    "correct = np.sum(y_predict == y)\n",
    "print (\"%d out of %d predictions correct\" % (correct, len(y_predict)))"
   ]
  },
  {
   "cell_type": "code",
   "execution_count": null,
   "metadata": {
    "collapsed": true
   },
   "outputs": [],
   "source": []
  },
  {
   "cell_type": "code",
   "execution_count": null,
   "metadata": {
    "collapsed": true
   },
   "outputs": [],
   "source": []
  }
 ],
 "metadata": {
  "kernelspec": {
   "display_name": "Python 3",
   "language": "python",
   "name": "python3"
  },
  "language_info": {
   "codemirror_mode": {
    "name": "ipython",
    "version": 3
   },
   "file_extension": ".py",
   "mimetype": "text/x-python",
   "name": "python",
   "nbconvert_exporter": "python",
   "pygments_lexer": "ipython3",
   "version": "3.6.4"
  },
  "toc": {
   "colors": {
    "hover_highlight": "#DAA520",
    "navigate_num": "#000000",
    "navigate_text": "#333333",
    "running_highlight": "#FF0000",
    "selected_highlight": "#FFD700",
    "sidebar_border": "#EEEEEE",
    "wrapper_background": "#FFFFFF"
   },
   "moveMenuLeft": true,
   "nav_menu": {
    "height": "117px",
    "width": "252px"
   },
   "navigate_menu": true,
   "number_sections": false,
   "sideBar": true,
   "threshold": 4,
   "toc_cell": false,
   "toc_section_display": "block",
   "toc_window_display": false,
   "widenNotebook": false
  }
 },
 "nbformat": 4,
 "nbformat_minor": 1
}
